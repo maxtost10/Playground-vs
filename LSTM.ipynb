{
 "cells": [
  {
   "cell_type": "code",
   "execution_count": 36,
   "metadata": {},
   "outputs": [],
   "source": [
    "import torch\n",
    "from torch.utils.data import Dataset, DataLoader\n",
    "import numpy as np\n",
    "import matplotlib.pyplot as plt\n",
    "import torch.nn as nn\n",
    "import torch.optim as optim\n",
    "\n",
    "class SinDataset(Dataset):\n",
    "    def __init__(self, x, included_timesteps, shift):\n",
    "        \"\"\"\n",
    "        Initialize the dataset with the data.\n",
    "\n",
    "        Args:\n",
    "            data (list or array-like): List of numbers to use as data.\n",
    "        \"\"\"\n",
    "        self.data = x\n",
    "        self.included_timesteps = included_timesteps\n",
    "        self.shift = shift\n",
    "\n",
    "    def __len__(self):\n",
    "        \"\"\"\n",
    "        Return the number of samples in the dataset.\n",
    "        \"\"\"\n",
    "        return len(self.data)-self.included_timesteps\n",
    "\n",
    "    def __getitem__(self, idx):\n",
    "        \"\"\"\n",
    "        Fetch the data and its label at index `idx`.\n",
    "\n",
    "        Args:\n",
    "            idx (int): Index of the sample to retrieve.\n",
    "        \n",
    "        Returns:\n",
    "            tuple: (data, label) where label is the square of the data.\n",
    "        \"\"\"\n",
    "        x = np.sin(self.data[idx:idx+self.included_timesteps] + self.shift)  # Get the input data\n",
    "        y = np.sin(self.data[idx+self.included_timesteps] + self.shift)         # Label is the square of the input\n",
    "        return x, y\n"
   ]
  },
  {
   "cell_type": "markdown",
   "metadata": {},
   "source": [
    "## Loading data"
   ]
  },
  {
   "cell_type": "code",
   "execution_count": null,
   "metadata": {},
   "outputs": [],
   "source": [
    "\n",
    "included_timesteps = 50\n",
    "timeline = np.linspace(0, 50, 5000)\n",
    "x1 = SinDataset(timeline, included_timesteps, 0)\n",
    "x2 = SinDataset(timeline, included_timesteps, 1)\n",
    "dataloader1 = DataLoader(x1, batch_size=1)\n",
    "dataloader2 = DataLoader(x2, batch_size=1)"
   ]
  },
  {
   "cell_type": "code",
   "execution_count": 46,
   "metadata": {},
   "outputs": [
    {
     "name": "stdout",
     "output_type": "stream",
     "text": [
      "torch.Size([1, 50]) torch.Size([1]) torch.Size([1, 50]) torch.Size([1])\n",
      "torch.Size([1, 50, 2]) torch.Size([1, 2])\n",
      "torch.float32 tensor([[0.4795, 0.9975]])\n"
     ]
    }
   ],
   "source": [
    "for (x1, y1), (x2, y2) in zip(dataloader1, dataloader2):\n",
    "    print(x1.shape, y1.shape, x1.shape, y1.shape)\n",
    "    x = torch.stack((x1, x2), dim=2).float()\n",
    "    y = torch.stack((y1, y2), dim=1).float()\n",
    "    print(x.shape, y.shape)\n",
    "    print(x.dtype, y)\n",
    "    break"
   ]
  },
  {
   "cell_type": "markdown",
   "metadata": {},
   "source": [
    "## Setting up Network"
   ]
  },
  {
   "cell_type": "code",
   "execution_count": 47,
   "metadata": {},
   "outputs": [],
   "source": [
    "class Net(nn.Module):\n",
    "    def __init__(self, n_neurons, input_shape):\n",
    "        super(Net, self).__init__()\n",
    "        \n",
    "        self.lstm1 = nn.LSTM(input_size=input_shape, hidden_size=n_neurons, batch_first=True)\n",
    "        self.lstm2 = nn.LSTM(input_size=input_shape, hidden_size=n_neurons, batch_first=True)\n",
    "\n",
    "        self.fc1 = nn.Linear(n_neurons, n_neurons)\n",
    "        self.fc2 = nn.Linear(n_neurons, n_neurons)\n",
    "        self.fc = nn.Linear(2*n_neurons, 2)\n",
    "    \n",
    "    def forward(self, x):\n",
    "        _, (h_n1, _) = self.lstm1(x[:, :, 0])\n",
    "        _, (h_n2, _) = self.lstm2(x[:, :, 1])\n",
    "        out = torch.cat((h_n1, h_n2))\n",
    "        out = torch.flatten(out)\n",
    "        out = self.fc(out)\n",
    "        return out"
   ]
  },
  {
   "cell_type": "markdown",
   "metadata": {},
   "source": [
    "# Training loop"
   ]
  },
  {
   "cell_type": "code",
   "execution_count": null,
   "metadata": {},
   "outputs": [
    {
     "name": "stdout",
     "output_type": "stream",
     "text": [
      "Epoch 0: loss_total=18.24904397013875\n",
      "Epoch 1: loss_total=16.551798416298702\n",
      "Epoch 2: loss_total=9.506502134095511\n",
      "Epoch 3: loss_total=12.113972450561526\n"
     ]
    }
   ],
   "source": [
    "n_neurons = 12\n",
    "epochs = 4\n",
    "\n",
    "model = Net(n_neurons, included_timesteps)\n",
    "loss_function = nn.MSELoss()\n",
    "optimizer = optim.Adam(model.parameters(), lr=0.001)\n",
    "loss_curve = []\n",
    "\n",
    "device = 'cuda' if torch.cuda.is_available() else 'cpu'\n",
    "model.to(device)\n",
    "\n",
    "for epoch in range(epochs):\n",
    "    loss_total = 0\n",
    "    model.train()\n",
    "\n",
    "    for (x1, y1), (x2, y2) in zip(dataloader1, dataloader2):\n",
    "        optimizer.zero_grad()\n",
    "        x = torch.stack((x1, x2), dim=2).float().to(device)\n",
    "        y = torch.flatten(torch.stack((y1, y2), dim=1).float()).to(device)\n",
    "\n",
    "        predictions = model(x)\n",
    "        loss = loss_function(predictions, y)\n",
    "        loss_total += loss.item()\n",
    "        loss.backward()\n",
    "        optimizer.step()\n",
    "    \n",
    "    print(f'Epoch {epoch}: {loss_total=}')\n"
   ]
  },
  {
   "cell_type": "code",
   "execution_count": 49,
   "metadata": {},
   "outputs": [],
   "source": [
    "# Predicting stuff\n",
    "for (x1, y1), (x2, y2) in zip(dataloader1, dataloader2):\n",
    "    x = torch.stack((x1, x2), dim=2).float()\n",
    "    y = torch.flatten(torch.stack((y1, y2), dim=1).float())\n",
    "    break"
   ]
  },
  {
   "cell_type": "code",
   "execution_count": null,
   "metadata": {},
   "outputs": [],
   "source": [
    "prediction = []\n",
    "for n in range(100):\n",
    "  pred = model(x)\n",
    "  y = torch.clone(x[:, 1:, :])\n",
    "  new_x = pred.reshape((1, 1, 2))\n",
    "  x = torch.cat((y, new_x), axis=1)\n",
    "  prediction.append(new_x[0, 0, :].detach().numpy())"
   ]
  },
  {
   "cell_type": "code",
   "execution_count": 55,
   "metadata": {},
   "outputs": [
    {
     "data": {
      "text/plain": [
       "[<matplotlib.lines.Line2D at 0x200d7e4acd0>]"
      ]
     },
     "execution_count": 55,
     "metadata": {},
     "output_type": "execute_result"
    },
    {
     "data": {
      "image/png": "[encoded data removed]",
      "text/plain": [
       "<Figure size 640x480 with 1 Axes>"
      ]
     },
     "metadata": {},
     "output_type": "display_data"
    }
   ],
   "source": [
    "plt.plot(np.array(prediction).T[1])"
   ]
  },
  {
   "cell_type": "code",
   "execution_count": 21,
   "metadata": {},
   "outputs": [
    {
     "data": {
      "text/plain": [
       "torch.Size([1, 19, 2])"
      ]
     },
     "execution_count": 21,
     "metadata": {},
     "output_type": "execute_result"
    }
   ],
   "source": [
    "y.shape"
   ]
  },
  {
   "cell_type": "code",
   "execution_count": 30,
   "metadata": {},
   "outputs": [
    {
     "data": {
      "text/plain": [
       "tensor([1.1688, 1.1697, 1.1706, 1.1717, 1.1729, 1.1738, 1.1744, 1.1748, 1.1748,\n",
       "        1.1744, 1.1738, 1.1731, 1.1721, 1.1711, 1.1703, 1.1695, 1.1689, 1.1685,\n",
       "        1.1683, 1.1681], grad_fn=<SelectBackward0>)"
      ]
     },
     "execution_count": 30,
     "metadata": {},
     "output_type": "execute_result"
    }
   ],
   "source": [
    "x[0, :, 0]"
   ]
  },
  {
   "cell_type": "code",
   "execution_count": 24,
   "metadata": {},
   "outputs": [
    {
     "data": {
      "text/plain": [
       "torch.Size([1, 20, 2])"
      ]
     },
     "execution_count": 24,
     "metadata": {},
     "output_type": "execute_result"
    }
   ],
   "source": [
    "x.shape"
   ]
  },
  {
   "cell_type": "code",
   "execution_count": null,
   "metadata": {},
   "outputs": [],
   "source": []
  }
 ],
 "metadata": {
  "kernelspec": {
   "display_name": "Python 3 (ipykernel)",
   "language": "python",
   "name": "python3"
  },
  "language_info": {
   "codemirror_mode": {
    "name": "ipython",
    "version": 3
   },
   "file_extension": ".py",
   "mimetype": "text/x-python",
   "name": "python",
   "nbconvert_exporter": "python",
   "pygments_lexer": "ipython3",
   "version": "3.11.5"
  }
 },
 "nbformat": 4,
 "nbformat_minor": 2
}
