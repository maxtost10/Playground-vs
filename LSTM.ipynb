{
 "cells": [
  {
   "cell_type": "code",
   "execution_count": null,
   "metadata": {},
   "outputs": [],
   "source": [
    "import torch\n",
    "from torch.utils.data import Dataset\n",
    "import numpy as np\n",
    "import matplotlib.pyplot as plt\n",
    "import torch.nn as nn\n",
    "import torch.optim as optim\n",
    "\n",
    "class SinDataset(Dataset):\n",
    "    def __init__(self, x, included_timesteps, shift):\n",
    "        \"\"\"\n",
    "        Initialize the dataset with the data.\n",
    "\n",
    "        Args:\n",
    "            data (list or array-like): List of numbers to use as data.\n",
    "        \"\"\"\n",
    "        self.data = x\n",
    "        self.included_timesteps = included_timesteps\n",
    "        self.shift = shift\n",
    "\n",
    "    def __len__(self):\n",
    "        \"\"\"\n",
    "        Return the number of samples in the dataset.\n",
    "        \"\"\"\n",
    "        return len(self.data)-self.included_timesteps\n",
    "\n",
    "    def __getitem__(self, idx):\n",
    "        \"\"\"\n",
    "        Fetch the data and its label at index `idx`.\n",
    "\n",
    "        Args:\n",
    "            idx (int): Index of the sample to retrieve.\n",
    "        \n",
    "        Returns:\n",
    "            tuple: (data, label) where label is the square of the data.\n",
    "        \"\"\"\n",
    "        x = np.sin(self.data[idx:idx+self.included_timesteps] + self.shift)  # Get the input data\n",
    "        y = np.sin(self.data[idx+self.included_timesteps] + self.shift)         # Label is the square of the input\n",
    "        return x, y\n"
   ]
  },
  {
   "cell_type": "markdown",
   "metadata": {},
   "source": [
    "## Loading data"
   ]
  },
  {
   "cell_type": "code",
   "execution_count": 126,
   "metadata": {},
   "outputs": [],
   "source": [
    "timeline = np.linspace(0, 100, 10000)\n",
    "x1 = SinDataset(timeline, 20, 0)\n",
    "x2 = SinDataset(timeline, 20, 1)\n",
    "dataloader1 = DataLoader(x1, batch_size=1)\n",
    "dataloader2 = DataLoader(x2, batch_size=1)"
   ]
  },
  {
   "cell_type": "code",
   "execution_count": 127,
   "metadata": {},
   "outputs": [
    {
     "name": "stdout",
     "output_type": "stream",
     "text": [
      "torch.Size([1, 20]) torch.Size([1]) torch.Size([1, 20]) torch.Size([1])\n",
      "torch.Size([1, 20, 2]) torch.Size([1, 2])\n",
      "torch.float32 tensor([[0.1987, 0.9320]])\n"
     ]
    }
   ],
   "source": [
    "for (x1, y1), (x2, y2) in zip(dataloader1, dataloader2):\n",
    "    print(x1.shape, y1.shape, x1.shape, y1.shape)\n",
    "    x = torch.stack((x1, x2), dim=2).float()\n",
    "    y = torch.stack((y1, y2), dim=1).float()\n",
    "    print(x.shape, y.shape)\n",
    "    print(x.dtype, y)\n",
    "    break"
   ]
  },
  {
   "cell_type": "markdown",
   "metadata": {},
   "source": [
    "## Setting up Network"
   ]
  },
  {
   "cell_type": "code",
   "execution_count": 128,
   "metadata": {},
   "outputs": [],
   "source": [
    "class Net(nn.Module):\n",
    "    def __init__(self, n_neurons, input_shape):\n",
    "        super(Net, self).__init__()\n",
    "        \n",
    "        self.lstm1 = nn.LSTM(input_size=input_shape, hidden_size=n_neurons, batch_first=True)\n",
    "        self.lstm2 = nn.LSTM(input_size=input_shape, hidden_size=n_neurons, batch_first=True)\n",
    "\n",
    "        self.fc1 = nn.Linear(n_neurons, n_neurons)\n",
    "        self.fc2 = nn.Linear(n_neurons, n_neurons)\n",
    "        self.fc = nn.Linear(n_neurons, 2)\n",
    "    \n",
    "    def forward(self, x):\n",
    "        _, (h_n1, _) = self.lstm1(x[:, :, 0])\n",
    "        _, (h_n2, _) = self.lstm2(x[:, :, 1])\n",
    "        out = torch.cat((h_n1, h_n2))\n",
    "        out = self.fc(out)\n",
    "        return out"
   ]
  },
  {
   "cell_type": "markdown",
   "metadata": {},
   "source": [
    "# Training loop"
   ]
  },
  {
   "cell_type": "code",
   "execution_count": null,
   "metadata": {},
   "outputs": [
    {
     "name": "stderr",
     "output_type": "stream",
     "text": [
      "C:\\Users\\Max Tost\\anaconda3\\Lib\\site-packages\\torch\\nn\\modules\\loss.py:608: UserWarning: Using a target size (torch.Size([1, 2])) that is different to the input size (torch.Size([2, 2])). This will likely lead to incorrect results due to broadcasting. Please ensure they have the same size.\n",
      "  return F.mse_loss(input, target, reduction=self.reduction)\n"
     ]
    },
    {
     "name": "stdout",
     "output_type": "stream",
     "text": [
      "Epoch 0: loss=tensor(0.0024, grad_fn=<MseLossBackward0>)\n"
     ]
    }
   ],
   "source": [
    "n_neurons = 12\n",
    "included_timesteps = 20\n",
    "epochs = 20\n",
    "\n",
    "model = Net(n_neurons, included_timesteps)\n",
    "loss_function = nn.MSELoss()\n",
    "optimizer = optim.Adam(model.parameters(), lr=0.01)\n",
    "loss_curve = []\n",
    "\n",
    "for epoch in range(epochs):\n",
    "    loss_total = 0\n",
    "    model.train()\n",
    "\n",
    "    for (x1, y1), (x2, y2) in zip(dataloader1, dataloader2):\n",
    "        optimizer.zero_grad()\n",
    "        x = torch.stack((x1, x2), dim=2).float()\n",
    "        y = torch.stack((y1, y2), dim=1).float()\n",
    "\n",
    "        predictions = model(x)\n",
    "        loss = loss_function(predictions, y)\n",
    "        loss_total += loss.item()\n",
    "        loss.backward()\n",
    "        optimizer.step()\n",
    "    \n",
    "    print(f'Epoch {epoch}: {loss=}')\n"
   ]
  },
  {
   "cell_type": "code",
   "execution_count": null,
   "metadata": {},
   "outputs": [],
   "source": []
  }
 ],
 "metadata": {
  "kernelspec": {
   "display_name": "Python 3 (ipykernel)",
   "language": "python",
   "name": "python3"
  },
  "language_info": {
   "codemirror_mode": {
    "name": "ipython",
    "version": 3
   },
   "file_extension": ".py",
   "mimetype": "text/x-python",
   "name": "python",
   "nbconvert_exporter": "python",
   "pygments_lexer": "ipython3",
   "version": "3.11.5"
  }
 },
 "nbformat": 4,
 "nbformat_minor": 2
}
