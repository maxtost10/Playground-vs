{
 "cells": [
  {
   "cell_type": "code",
   "execution_count": 1,
   "metadata": {},
   "outputs": [],
   "source": [
    "import torch"
   ]
  },
  {
   "cell_type": "code",
   "execution_count": 37,
   "metadata": {},
   "outputs": [
    {
     "name": "stdout",
     "output_type": "stream",
     "text": [
      "tensor([[[1., 1., 1.],\n",
      "         [2., 2., 2.],\n",
      "         [3., 3., 3.]],\n",
      "\n",
      "        [[1., 1., 1.],\n",
      "         [2., 2., 2.],\n",
      "         [3., 3., 3.]]])\n",
      "\n",
      "\n",
      "tensor([[[2., 2., 2.],\n",
      "         [4., 4., 4.],\n",
      "         [6., 6., 6.]],\n",
      "\n",
      "        [[2., 2., 2.],\n",
      "         [4., 4., 4.],\n",
      "         [6., 6., 6.]]])\n",
      "torch.Size([2, 3, 3]) torch.Size([2, 3, 3])\n"
     ]
    }
   ],
   "source": [
    "a = torch.ones((2, 3, 3))\n",
    "a[:, 1, :] *=2\n",
    "a[:, 2, :] *=3\n",
    "print(a)\n",
    "b = 2 * torch.clone(a)\n",
    "print('\\n')\n",
    "print(b)\n",
    "print(a.shape, b.shape)"
   ]
  },
  {
   "cell_type": "code",
   "execution_count": 47,
   "metadata": {},
   "outputs": [
    {
     "name": "stdout",
     "output_type": "stream",
     "text": [
      "torch.Size([5, 3])\n",
      "\n",
      "\n",
      "\n",
      "\n",
      "\n",
      "\n",
      "tensor([[1., 1., 1.],\n",
      "        [1., 1., 1.],\n",
      "        [2., 2., 2.],\n",
      "        [4., 4., 4.],\n",
      "        [6., 6., 6.]])\n"
     ]
    }
   ],
   "source": [
    "c = torch.cat((torch.transpose(a, 1, 2)[0], b[0]), 0)\n",
    "print(c.shape)\n",
    "print('\\n'*5)\n",
    "print(c)"
   ]
  },
  {
   "cell_type": "code",
   "execution_count": 10,
   "metadata": {},
   "outputs": [
    {
     "data": {
      "text/plain": [
       "tensor([[[1., 1., 1., 1., 2., 2., 2., 2.],\n",
       "         [3., 3., 3., 3., 1., 1., 1., 1.],\n",
       "         [2., 2., 2., 2., 3., 3., 3., 3.]]])"
      ]
     },
     "execution_count": 10,
     "metadata": {},
     "output_type": "execute_result"
    }
   ],
   "source": [
    "a.view(-1, 3, 8)"
   ]
  },
  {
   "cell_type": "code",
   "execution_count": null,
   "metadata": {},
   "outputs": [],
   "source": []
  }
 ],
 "metadata": {
  "kernelspec": {
   "display_name": "Python 3 (ipykernel)",
   "language": "python",
   "name": "python3"
  },
  "language_info": {
   "codemirror_mode": {
    "name": "ipython",
    "version": 3
   },
   "file_extension": ".py",
   "mimetype": "text/x-python",
   "name": "python",
   "nbconvert_exporter": "python",
   "pygments_lexer": "ipython3",
   "version": "3.11.5"
  }
 },
 "nbformat": 4,
 "nbformat_minor": 2
}
