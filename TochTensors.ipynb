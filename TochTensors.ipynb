{
 "cells": [
  {
   "cell_type": "code",
   "execution_count": 1,
   "metadata": {},
   "outputs": [],
   "source": [
    "import torch"
   ]
  },
  {
   "cell_type": "code",
   "execution_count": 11,
   "metadata": {},
   "outputs": [
    {
     "name": "stdout",
     "output_type": "stream",
     "text": [
      "tensor([[[1., 1., 1., 1.],\n",
      "         [2., 2., 2., 2.],\n",
      "         [3., 3., 3., 3.]],\n",
      "\n",
      "        [[1., 1., 1., 1.],\n",
      "         [2., 2., 2., 2.],\n",
      "         [3., 3., 3., 3.]]])\n",
      "torch.Size([2, 3, 4])\n",
      "--------------------\n",
      "tensor([[1., 1., 1., 1., 1., 1., 1., 1.],\n",
      "        [2., 2., 2., 2., 2., 2., 2., 2.],\n",
      "        [3., 3., 3., 3., 3., 3., 3., 3.]])\n"
     ]
    },
    {
     "data": {
      "text/plain": [
       "torch.Size([3, 8])"
      ]
     },
     "execution_count": 11,
     "metadata": {},
     "output_type": "execute_result"
    }
   ],
   "source": [
    "a = torch.ones((2, 3, 4))\n",
    "a[:, 1, :] *=2\n",
    "a[:, 2, :] *=3\n",
    "print(a)\n",
    "print(a.shape)\n",
    "print('-'*20)\n",
    "a = torch.cat((a[0], a[1]), 1)\n",
    "print(a)\n",
    "a.shape"
   ]
  },
  {
   "cell_type": "code",
   "execution_count": 7,
   "metadata": {},
   "outputs": [
    {
     "name": "stdout",
     "output_type": "stream",
     "text": [
      "tensor([[[1., 1., 1., 1.],\n",
      "         [1., 1., 1., 1.],\n",
      "         [1., 1., 1., 1.]],\n",
      "\n",
      "        [[1., 1., 1., 1.],\n",
      "         [1., 1., 1., 1.],\n",
      "         [1., 1., 1., 1.]]]) torch.Size([2, 3, 4])\n",
      "--------------------\n",
      "tensor([[[1],\n",
      "         [2],\n",
      "         [3]]]) torch.Size([1, 3, 1])\n",
      "--------------------\n",
      "tensor([[[1., 1., 1., 1.],\n",
      "         [2., 2., 2., 2.],\n",
      "         [3., 3., 3., 3.]],\n",
      "\n",
      "        [[1., 1., 1., 1.],\n",
      "         [2., 2., 2., 2.],\n",
      "         [3., 3., 3., 3.]]])\n"
     ]
    }
   ],
   "source": [
    "a = torch.ones((2, 3, 4))\n",
    "print(a, a.shape)\n",
    "print('-'*20)\n",
    "scaling_factors = torch.tensor([1, 2, 3]).view(1, 3, 1)\n",
    "print(scaling_factors, scaling_factors.shape)\n",
    "print('-'*20)\n",
    "a *= scaling_factors\n",
    "print(a)"
   ]
  },
  {
   "cell_type": "code",
   "execution_count": 10,
   "metadata": {},
   "outputs": [
    {
     "data": {
      "text/plain": [
       "tensor([[[1., 1., 1., 1., 2., 2., 2., 2.],\n",
       "         [3., 3., 3., 3., 1., 1., 1., 1.],\n",
       "         [2., 2., 2., 2., 3., 3., 3., 3.]]])"
      ]
     },
     "execution_count": 10,
     "metadata": {},
     "output_type": "execute_result"
    }
   ],
   "source": [
    "a.view(-1, 3, 8)"
   ]
  },
  {
   "cell_type": "code",
   "execution_count": null,
   "metadata": {},
   "outputs": [],
   "source": []
  }
 ],
 "metadata": {
  "kernelspec": {
   "display_name": "Python 3 (ipykernel)",
   "language": "python",
   "name": "python3"
  },
  "language_info": {
   "codemirror_mode": {
    "name": "ipython",
    "version": 3
   },
   "file_extension": ".py",
   "mimetype": "text/x-python",
   "name": "python",
   "nbconvert_exporter": "python",
   "pygments_lexer": "ipython3",
   "version": "3.11.5"
  }
 },
 "nbformat": 4,
 "nbformat_minor": 2
}
