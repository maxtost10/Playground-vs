{
 "cells": [
  {
   "cell_type": "markdown",
   "metadata": {},
   "source": [
    "## Basic Dataset"
   ]
  },
  {
   "cell_type": "code",
   "execution_count": 1,
   "metadata": {},
   "outputs": [],
   "source": [
    "import torch\n",
    "from torch.utils.data import Dataset\n",
    "\n",
    "class SquareDataset(Dataset):\n",
    "    def __init__(self, data):\n",
    "        \"\"\"\n",
    "        Initialize the dataset with the data.\n",
    "\n",
    "        Args:\n",
    "            data (list or array-like): List of numbers to use as data.\n",
    "        \"\"\"\n",
    "        self.data = data\n",
    "\n",
    "    def __len__(self):\n",
    "        \"\"\"\n",
    "        Return the number of samples in the dataset.\n",
    "        \"\"\"\n",
    "        return len(self.data)\n",
    "\n",
    "    def __getitem__(self, idx):\n",
    "        \"\"\"\n",
    "        Fetch the data and its label at index `idx`.\n",
    "\n",
    "        Args:\n",
    "            idx (int): Index of the sample to retrieve.\n",
    "        \n",
    "        Returns:\n",
    "            tuple: (data, label) where label is the square of the data.\n",
    "        \"\"\"\n",
    "        x = self.data[idx]  # Get the input data\n",
    "        y = x ** 2          # Label is the square of the input\n",
    "        return x, y\n"
   ]
  },
  {
   "cell_type": "markdown",
   "metadata": {},
   "source": [
    "## Create and Test Dataset"
   ]
  },
  {
   "cell_type": "code",
   "execution_count": 4,
   "metadata": {},
   "outputs": [
    {
     "name": "stdout",
     "output_type": "stream",
     "text": [
      "Dataset size: 10\n",
      "Input: 1, Label: 1\n",
      "Input: 2, Label: 4\n",
      "Input: 3, Label: 9\n",
      "Input: 4, Label: 16\n",
      "Input: 5, Label: 25\n",
      "Input: 6, Label: 36\n",
      "Input: 7, Label: 49\n",
      "Input: 8, Label: 64\n",
      "Input: 9, Label: 81\n",
      "Input: 10, Label: 100\n"
     ]
    }
   ],
   "source": [
    "# Create an instance of the dataset\n",
    "numbers = list(range(1, 11))  # Data: [1, 2, 3, ..., 10]\n",
    "dataset = SquareDataset(numbers)\n",
    "\n",
    "# Test the dataset\n",
    "print(f\"Dataset size: {len(dataset)}\")  # Should print: 10\n",
    "for i in range(len(dataset)):\n",
    "    x, y = dataset[i]\n",
    "    print(f\"Input: {x}, Label: {y}\")\n"
   ]
  },
  {
   "cell_type": "markdown",
   "metadata": {},
   "source": [
    "## Use with DataLoader"
   ]
  },
  {
   "cell_type": "code",
   "execution_count": 5,
   "metadata": {},
   "outputs": [
    {
     "name": "stdout",
     "output_type": "stream",
     "text": [
      "Batch Inputs: tensor([5, 2, 7]), Batch Labels: tensor([25,  4, 49])\n",
      "Batch Inputs: tensor([9, 8, 4]), Batch Labels: tensor([81, 64, 16])\n",
      "Batch Inputs: tensor([1, 6, 3]), Batch Labels: tensor([ 1, 36,  9])\n",
      "Batch Inputs: tensor([10]), Batch Labels: tensor([100])\n"
     ]
    }
   ],
   "source": [
    "from torch.utils.data import DataLoader\n",
    "\n",
    "# Create a DataLoader\n",
    "dataloader = DataLoader(dataset, batch_size=3, shuffle=True)\n",
    "\n",
    "# Iterate through the DataLoader\n",
    "for batch in dataloader:\n",
    "    x_batch, y_batch = batch\n",
    "    print(f\"Batch Inputs: {x_batch}, Batch Labels: {y_batch}\")\n"
   ]
  },
  {
   "cell_type": "markdown",
   "metadata": {},
   "source": [
    "## Splitting the Dataset with random_split"
   ]
  },
  {
   "cell_type": "code",
   "execution_count": 4,
   "metadata": {},
   "outputs": [
    {
     "name": "stdout",
     "output_type": "stream",
     "text": [
      "Training set size: 80\n",
      "Test set size: 20\n"
     ]
    }
   ],
   "source": [
    "from torch.utils.data import random_split\n",
    "\n",
    "# Define the dataset\n",
    "numbers = list(range(1, 101))  # Example dataset with numbers 1 to 100\n",
    "dataset = SquareDataset(numbers)\n",
    "\n",
    "# Define split sizes\n",
    "train_size = int(0.8 * len(dataset))  # 80% for training\n",
    "test_size = len(dataset) - train_size  # Remaining 20% for testing\n",
    "\n",
    "# Split the dataset\n",
    "train_dataset, test_dataset = random_split(dataset, [train_size, test_size])\n",
    "\n",
    "# Check the sizes\n",
    "print(f\"Training set size: {len(train_dataset)}\")\n",
    "print(f\"Test set size: {len(test_dataset)}\")\n"
   ]
  },
  {
   "cell_type": "code",
   "execution_count": null,
   "metadata": {},
   "outputs": [],
   "source": []
  }
 ],
 "metadata": {
  "kernelspec": {
   "display_name": "Python 3 (ipykernel)",
   "language": "python",
   "name": "python3"
  },
  "language_info": {
   "codemirror_mode": {
    "name": "ipython",
    "version": 3
   },
   "file_extension": ".py",
   "mimetype": "text/x-python",
   "name": "python",
   "nbconvert_exporter": "python",
   "pygments_lexer": "ipython3",
   "version": "3.11.5"
  }
 },
 "nbformat": 4,
 "nbformat_minor": 2
}
