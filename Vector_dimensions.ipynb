{
  "nbformat": 4,
  "nbformat_minor": 0,
  "metadata": {
    "colab": {
      "provenance": [],
      "authorship_tag": "ABX9TyOl9yA1xZ1xjNNDGuNYUwaD",
      "include_colab_link": true
    },
    "kernelspec": {
      "name": "python3",
      "display_name": "Python 3"
    },
    "language_info": {
      "name": "python"
    }
  },
  "cells": [
    {
      "cell_type": "markdown",
      "metadata": {
        "id": "view-in-github",
        "colab_type": "text"
      },
      "source": [
        "<a href=\"https://colab.research.google.com/github/maxtost10/Playground-vs/blob/main/Vector_dimensions.ipynb\" target=\"_parent\"><img src=\"https://colab.research.google.com/assets/colab-badge.svg\" alt=\"Open In Colab\"/></a>"
      ]
    },
    {
      "cell_type": "code",
      "execution_count": null,
      "metadata": {
        "id": "WKgj-lj3WSV8"
      },
      "outputs": [],
      "source": [
        "import pandas as pd\n",
        "import numpy as np\n",
        "import torch"
      ]
    },
    {
      "cell_type": "code",
      "source": [
        "x = pd.DataFrame()"
      ],
      "metadata": {
        "id": "BDQJx8o-Xczg"
      },
      "execution_count": null,
      "outputs": []
    },
    {
      "cell_type": "code",
      "source": [
        "x['timestep1'] = [1, 4, 7]\n",
        "x['timestep2'] = [2, 5, 8]\n",
        "x['timestep3'] = [3, 6, 9]\n",
        "x['timestep4'] = [4, 7, 10]\n",
        "x['value1'] = [101, 104, 107]\n",
        "x['value2'] = [102, 105, 108]\n",
        "x['value3'] = [103, 106, 109]\n",
        "x['value4'] = [104, 107, 110]"
      ],
      "metadata": {
        "id": "rWiVN_sqXuZb"
      },
      "execution_count": null,
      "outputs": []
    },
    {
      "cell_type": "code",
      "source": [
        "x.shape, x.keys()"
      ],
      "metadata": {
        "colab": {
          "base_uri": "https://localhost:8080/"
        },
        "id": "CrFAFdpGYFFR",
        "outputId": "0437743b-38cd-4579-edd6-d912019aa686"
      },
      "execution_count": null,
      "outputs": [
        {
          "output_type": "execute_result",
          "data": {
            "text/plain": [
              "((3, 8),\n",
              " Index(['timestep1', 'timestep2', 'timestep3', 'timestep4', 'value1', 'value2',\n",
              "        'value3', 'value4'],\n",
              "       dtype='object'))"
            ]
          },
          "metadata": {},
          "execution_count": 65
        }
      ]
    },
    {
      "cell_type": "markdown",
      "source": [
        "# Pandas Concatenate"
      ],
      "metadata": {
        "id": "Yg90fGUjecfG"
      }
    },
    {
      "cell_type": "code",
      "source": [
        "pd_concat_axis1 = pd.concat([x[['timestep1', 'timestep2']], x[['value1', 'value2']]], axis=1)\n",
        "print(pd_concat_axis1)"
      ],
      "metadata": {
        "colab": {
          "base_uri": "https://localhost:8080/"
        },
        "id": "q8zqZROgZpKW",
        "outputId": "089c4cf1-561a-4778-883d-c25ff7f2542b"
      },
      "execution_count": null,
      "outputs": [
        {
          "output_type": "stream",
          "name": "stdout",
          "text": [
            "   timestep1  timestep2  value1  value2\n",
            "0          1          2     101     102\n",
            "1          4          5     104     105\n",
            "2          7          8     107     108\n"
          ]
        }
      ]
    },
    {
      "cell_type": "code",
      "source": [
        "pd_concat_axis0 = pd.concat([x[['timestep1', 'timestep2']], x[['value1', 'value2']]], axis=0)\n",
        "print(pd_concat_axis0)"
      ],
      "metadata": {
        "colab": {
          "base_uri": "https://localhost:8080/"
        },
        "id": "5Qu-tA4EZqB7",
        "outputId": "c85257ac-7f63-417d-97b1-e7b9ee9a7023"
      },
      "execution_count": null,
      "outputs": [
        {
          "output_type": "stream",
          "name": "stdout",
          "text": [
            "   timestep1  timestep2  value1  value2\n",
            "0        1.0        2.0     NaN     NaN\n",
            "1        4.0        5.0     NaN     NaN\n",
            "2        7.0        8.0     NaN     NaN\n",
            "0        NaN        NaN   101.0   102.0\n",
            "1        NaN        NaN   104.0   105.0\n",
            "2        NaN        NaN   107.0   108.0\n"
          ]
        }
      ]
    },
    {
      "cell_type": "code",
      "source": [
        "a = x[[col for col in x.columns if col.startswith('time')]].values # Zwei Eckige Klammern wichtig\n",
        "b = x[[col for col in x.columns if col.startswith('value')]].values # .values gibt array\n",
        "a, b"
      ],
      "metadata": {
        "colab": {
          "base_uri": "https://localhost:8080/"
        },
        "id": "UEq2A6u6ceN2",
        "outputId": "58854021-a529-46f2-ed7d-79a9b8678381"
      },
      "execution_count": null,
      "outputs": [
        {
          "output_type": "execute_result",
          "data": {
            "text/plain": [
              "(array([[ 1,  2,  3,  4],\n",
              "        [ 4,  5,  6,  7],\n",
              "        [ 7,  8,  9, 10]]),\n",
              " array([[101, 102, 103, 104],\n",
              "        [104, 105, 106, 107],\n",
              "        [107, 108, 109, 110]]))"
            ]
          },
          "metadata": {},
          "execution_count": 68
        }
      ]
    },
    {
      "cell_type": "markdown",
      "source": [
        "# Numpy Concatenate und Stack"
      ],
      "metadata": {
        "id": "xpWaKcT5eOsr"
      }
    },
    {
      "cell_type": "code",
      "source": [
        "cat_0 = np.concatenate([a, b], axis=0)\n",
        "cat_0"
      ],
      "metadata": {
        "colab": {
          "base_uri": "https://localhost:8080/"
        },
        "id": "3vGO0_IjdoRf",
        "outputId": "bd5b9c6e-cca7-44e7-becc-7163b8c0952f"
      },
      "execution_count": null,
      "outputs": [
        {
          "output_type": "execute_result",
          "data": {
            "text/plain": [
              "array([[  1,   2,   3,   4],\n",
              "       [  4,   5,   6,   7],\n",
              "       [  7,   8,   9,  10],\n",
              "       [101, 102, 103, 104],\n",
              "       [104, 105, 106, 107],\n",
              "       [107, 108, 109, 110]])"
            ]
          },
          "metadata": {},
          "execution_count": 69
        }
      ]
    },
    {
      "cell_type": "code",
      "source": [
        "cat_0 = np.concatenate([a, b], axis=1)\n",
        "cat_0"
      ],
      "metadata": {
        "colab": {
          "base_uri": "https://localhost:8080/"
        },
        "id": "uxYB9ydJeKs8",
        "outputId": "e74eb4f6-3761-4f7f-85b0-8f932f607536"
      },
      "execution_count": null,
      "outputs": [
        {
          "output_type": "execute_result",
          "data": {
            "text/plain": [
              "array([[  1,   2,   3,   4, 101, 102, 103, 104],\n",
              "       [  4,   5,   6,   7, 104, 105, 106, 107],\n",
              "       [  7,   8,   9,  10, 107, 108, 109, 110]])"
            ]
          },
          "metadata": {},
          "execution_count": 70
        }
      ]
    },
    {
      "cell_type": "code",
      "source": [
        "print('This does not work :(')\n",
        "cat_0 = np.concatenate([a, b], axis=2)"
      ],
      "metadata": {
        "colab": {
          "base_uri": "https://localhost:8080/",
          "height": 176
        },
        "id": "LydtS88-esDi",
        "outputId": "95f2beb3-0ac5-4fc0-aaf2-e7c5353f75d3"
      },
      "execution_count": null,
      "outputs": [
        {
          "output_type": "stream",
          "name": "stdout",
          "text": [
            "This does not work :(\n"
          ]
        },
        {
          "output_type": "error",
          "ename": "AxisError",
          "evalue": "axis 2 is out of bounds for array of dimension 2",
          "traceback": [
            "\u001b[0;31m---------------------------------------------------------------------------\u001b[0m",
            "\u001b[0;31mAxisError\u001b[0m                                 Traceback (most recent call last)",
            "\u001b[0;32m<ipython-input-71-13eccf7e740b>\u001b[0m in \u001b[0;36m<cell line: 0>\u001b[0;34m()\u001b[0m\n\u001b[1;32m      1\u001b[0m \u001b[0mprint\u001b[0m\u001b[0;34m(\u001b[0m\u001b[0;34m'This does not work :('\u001b[0m\u001b[0;34m)\u001b[0m\u001b[0;34m\u001b[0m\u001b[0;34m\u001b[0m\u001b[0m\n\u001b[0;32m----> 2\u001b[0;31m \u001b[0mcat_0\u001b[0m \u001b[0;34m=\u001b[0m \u001b[0mnp\u001b[0m\u001b[0;34m.\u001b[0m\u001b[0mconcatenate\u001b[0m\u001b[0;34m(\u001b[0m\u001b[0;34m[\u001b[0m\u001b[0ma\u001b[0m\u001b[0;34m,\u001b[0m \u001b[0mb\u001b[0m\u001b[0;34m]\u001b[0m\u001b[0;34m,\u001b[0m \u001b[0maxis\u001b[0m\u001b[0;34m=\u001b[0m\u001b[0;36m2\u001b[0m\u001b[0;34m)\u001b[0m\u001b[0;34m\u001b[0m\u001b[0;34m\u001b[0m\u001b[0m\n\u001b[0m",
            "\u001b[0;31mAxisError\u001b[0m: axis 2 is out of bounds for array of dimension 2"
          ]
        }
      ]
    },
    {
      "cell_type": "code",
      "source": [
        "stack_0 = np.stack([a, b], axis=0)\n",
        "print('Stacking on axis 0')\n",
        "stack_0"
      ],
      "metadata": {
        "colab": {
          "base_uri": "https://localhost:8080/"
        },
        "id": "SSlbl-HeevZL",
        "outputId": "02110fb6-ff68-457b-a1ab-d04bd86cbc24"
      },
      "execution_count": null,
      "outputs": [
        {
          "output_type": "stream",
          "name": "stdout",
          "text": [
            "Stacking on axis 0\n"
          ]
        },
        {
          "output_type": "execute_result",
          "data": {
            "text/plain": [
              "array([[[  1,   2,   3,   4],\n",
              "        [  4,   5,   6,   7],\n",
              "        [  7,   8,   9,  10]],\n",
              "\n",
              "       [[101, 102, 103, 104],\n",
              "        [104, 105, 106, 107],\n",
              "        [107, 108, 109, 110]]])"
            ]
          },
          "metadata": {},
          "execution_count": 72
        }
      ]
    },
    {
      "cell_type": "code",
      "source": [
        "stack_1 = np.stack([a, b], axis=1)\n",
        "print('Stacking on axis 1')\n",
        "stack_1"
      ],
      "metadata": {
        "colab": {
          "base_uri": "https://localhost:8080/"
        },
        "id": "rlztOSNQfOyK",
        "outputId": "ef7e9436-f07d-4e0a-d9e6-8d02f7b18bdf"
      },
      "execution_count": null,
      "outputs": [
        {
          "output_type": "stream",
          "name": "stdout",
          "text": [
            "Stacking on axis 1\n"
          ]
        },
        {
          "output_type": "execute_result",
          "data": {
            "text/plain": [
              "array([[[  1,   2,   3,   4],\n",
              "        [101, 102, 103, 104]],\n",
              "\n",
              "       [[  4,   5,   6,   7],\n",
              "        [104, 105, 106, 107]],\n",
              "\n",
              "       [[  7,   8,   9,  10],\n",
              "        [107, 108, 109, 110]]])"
            ]
          },
          "metadata": {},
          "execution_count": 73
        }
      ]
    },
    {
      "cell_type": "code",
      "source": [
        "stack_2 = np.stack([a, b], axis=2)\n",
        "print('Stacking on axis 2')\n",
        "print(stack_2)\n",
        "print(stack_2.shape)"
      ],
      "metadata": {
        "colab": {
          "base_uri": "https://localhost:8080/"
        },
        "id": "HwwuSgwvffN5",
        "outputId": "a229077f-ae8d-41ac-b516-a49dfae06392"
      },
      "execution_count": null,
      "outputs": [
        {
          "output_type": "stream",
          "name": "stdout",
          "text": [
            "Stacking on axis 2\n",
            "[[[  1 101]\n",
            "  [  2 102]\n",
            "  [  3 103]\n",
            "  [  4 104]]\n",
            "\n",
            " [[  4 104]\n",
            "  [  5 105]\n",
            "  [  6 106]\n",
            "  [  7 107]]\n",
            "\n",
            " [[  7 107]\n",
            "  [  8 108]\n",
            "  [  9 109]\n",
            "  [ 10 110]]]\n",
            "(3, 4, 2)\n"
          ]
        }
      ]
    },
    {
      "cell_type": "markdown",
      "source": [
        "# Last but not least: Torch"
      ],
      "metadata": {
        "id": "wFea6VLbrgQf"
      }
    },
    {
      "cell_type": "code",
      "source": [
        "# Konvertiere zu Tensors\n",
        "a_t = torch.tensor(a)\n",
        "b_t = torch.tensor(b)\n",
        "\n",
        "print(\"a_t.shape\", a_t.shape)\n",
        "print(a_t)\n",
        "print(\"b_t.shape\", b_t.shape)\n",
        "print(b_t)\n"
      ],
      "metadata": {
        "colab": {
          "base_uri": "https://localhost:8080/"
        },
        "id": "E6NSY6Pyflk7",
        "outputId": "e36dc9f1-e03b-4b42-c55e-7deb4177aba9"
      },
      "execution_count": null,
      "outputs": [
        {
          "output_type": "stream",
          "name": "stdout",
          "text": [
            "a_t.shape torch.Size([3, 4])\n",
            "tensor([[ 1,  2,  3,  4],\n",
            "        [ 4,  5,  6,  7],\n",
            "        [ 7,  8,  9, 10]])\n",
            "b_t.shape torch.Size([3, 4])\n",
            "tensor([[101, 102, 103, 104],\n",
            "        [104, 105, 106, 107],\n",
            "        [107, 108, 109, 110]])\n"
          ]
        }
      ]
    },
    {
      "cell_type": "code",
      "source": [
        "cat_t0 = torch.cat([a_t, b_t], dim=0)\n",
        "cat_t1 = torch.cat([a_t, b_t], dim=1)\n",
        "print(\"torch.cat dim=0\", cat_t0.shape)\n",
        "print(cat_t0)\n",
        "print(\"torch.cat dim=1\", cat_t1.shape)\n",
        "print(cat_t1)"
      ],
      "metadata": {
        "colab": {
          "base_uri": "https://localhost:8080/"
        },
        "id": "GbFJ06yrrkbT",
        "outputId": "4247c16b-d49d-4311-9e9e-7fcc203c5974"
      },
      "execution_count": null,
      "outputs": [
        {
          "output_type": "stream",
          "name": "stdout",
          "text": [
            "torch.cat dim=0 torch.Size([6, 4])\n",
            "tensor([[  1,   2,   3,   4],\n",
            "        [  4,   5,   6,   7],\n",
            "        [  7,   8,   9,  10],\n",
            "        [101, 102, 103, 104],\n",
            "        [104, 105, 106, 107],\n",
            "        [107, 108, 109, 110]])\n",
            "torch.cat dim=1 torch.Size([3, 8])\n",
            "tensor([[  1,   2,   3,   4, 101, 102, 103, 104],\n",
            "        [  4,   5,   6,   7, 104, 105, 106, 107],\n",
            "        [  7,   8,   9,  10, 107, 108, 109, 110]])\n"
          ]
        }
      ]
    },
    {
      "cell_type": "code",
      "source": [
        "stack_t0 = torch.stack([a_t, b_t], dim=0)\n",
        "stack_t1 = torch.stack([a_t, b_t], dim=1)\n",
        "stack_t2 = torch.stack([a_t, b_t], dim=2)\n",
        "print(\"torch.stack dim=0\", stack_t0.shape)\n",
        "print(stack_t0)\n",
        "print(\"torch.stack dim=1\", stack_t1.shape)\n",
        "print(stack_t1)\n",
        "print(\"torch.stack dim=2\", stack_t2.shape)\n",
        "print(stack_t2)"
      ],
      "metadata": {
        "colab": {
          "base_uri": "https://localhost:8080/"
        },
        "id": "Uw8VQl6fsXt6",
        "outputId": "7ecba8f6-87ce-46d0-fda7-0d010b89fa17"
      },
      "execution_count": null,
      "outputs": [
        {
          "output_type": "stream",
          "name": "stdout",
          "text": [
            "torch.stack dim=0 torch.Size([2, 3, 4])\n",
            "tensor([[[  1,   2,   3,   4],\n",
            "         [  4,   5,   6,   7],\n",
            "         [  7,   8,   9,  10]],\n",
            "\n",
            "        [[101, 102, 103, 104],\n",
            "         [104, 105, 106, 107],\n",
            "         [107, 108, 109, 110]]])\n",
            "torch.stack dim=1 torch.Size([3, 2, 4])\n",
            "tensor([[[  1,   2,   3,   4],\n",
            "         [101, 102, 103, 104]],\n",
            "\n",
            "        [[  4,   5,   6,   7],\n",
            "         [104, 105, 106, 107]],\n",
            "\n",
            "        [[  7,   8,   9,  10],\n",
            "         [107, 108, 109, 110]]])\n",
            "torch.stack dim=2 torch.Size([3, 4, 2])\n",
            "tensor([[[  1, 101],\n",
            "         [  2, 102],\n",
            "         [  3, 103],\n",
            "         [  4, 104]],\n",
            "\n",
            "        [[  4, 104],\n",
            "         [  5, 105],\n",
            "         [  6, 106],\n",
            "         [  7, 107]],\n",
            "\n",
            "        [[  7, 107],\n",
            "         [  8, 108],\n",
            "         [  9, 109],\n",
            "         [ 10, 110]]])\n"
          ]
        }
      ]
    },
    {
      "cell_type": "code",
      "source": [],
      "metadata": {
        "id": "jUFT9_EzsmNn"
      },
      "execution_count": null,
      "outputs": []
    }
  ]
}